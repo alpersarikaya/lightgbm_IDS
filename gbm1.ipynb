{
 "cells": [
  {
   "cell_type": "code",
   "execution_count": 1,
   "metadata": {},
   "outputs": [
    {
     "name": "stderr",
     "output_type": "stream",
     "text": [
      "/Users/alpersarikaya/venv/lib/python3.6/site-packages/lightgbm/__init__.py:46: UserWarning: Starting from version 2.2.1, the library file in distribution wheels for macOS is built by the Apple Clang (Xcode_8.3.1) compiler.\n",
      "This means that in case of installing LightGBM from PyPI via the ``pip install lightgbm`` command, you don't need to install the gcc compiler anymore.\n",
      "Instead of that, you need to install the OpenMP library, which is required for running LightGBM on the system with the Apple Clang compiler.\n",
      "You can install the OpenMP library by the following command: ``brew install libomp``.\n",
      "  \"You can install the OpenMP library by the following command: ``brew install libomp``.\", UserWarning)\n"
     ]
    }
   ],
   "source": [
    "from __future__ import division\n",
    "import lightgbm as gbm\n",
    "import pandas as pd\n",
    "import numpy as np\n",
    "from sklearn.model_selection import train_test_split\n",
    "from sklearn.metrics import mean_squared_error\n",
    "from sklearn.metrics import confusion_matrix,accuracy_score\n",
    "import xgboost as xgb\n",
    "\n",
    "import os\n",
    "os.environ['KMP_DUPLICATE_LIB_OK']='True'"
   ]
  },
  {
   "cell_type": "code",
   "execution_count": 2,
   "metadata": {},
   "outputs": [],
   "source": [
    "#train= pd.read_csv('../dataset/training.csv',header=None) #82000\n",
    "data = pd.read_csv('testing.csv',header=None) #175000"
   ]
  },
  {
   "cell_type": "code",
   "execution_count": 3,
   "metadata": {},
   "outputs": [],
   "source": [
    "data_y = data[43]\n",
    "data_x = data.drop([0,43,44],axis=1)"
   ]
  },
  {
   "cell_type": "code",
   "execution_count": 4,
   "metadata": {},
   "outputs": [],
   "source": [
    "x_tr,x_ts,y_tr,y_ts = train_test_split(data_x,data_y,test_size=0.3,random_state=42,stratify=data_y)"
   ]
  },
  {
   "cell_type": "code",
   "execution_count": 5,
   "metadata": {},
   "outputs": [],
   "source": [
    "#FULL_SET\n",
    "lgb_train = gbm.Dataset(x_tr,y_tr,feature_name=[\"dur\",\"proto\",\"service\",\"state\",\"spkts\",\"dpkts\",\"sbytes\",\"dbytes\",\"rate\",\n",
    "                                                \"sttl\",\"dttl\",\"sload\",\"dload\",\"sloss\",\"dloss\",\"sinpkt\",\"dinpkt\",\"sjit\",\"djit\",\n",
    "                                                \"swin\",\"stcpb\",\"dtcpb\",\"dwin\",\"tcprtt\",\"synack\",\"ackdat\",\"smean\",\"dmean\",\n",
    "                                                \"trans_depth\",\"response_body_len\",\"ct_srv_src\",\"ct_state_ttl\",\"ct_dst_ltm\",\n",
    "                                                \"ct_src_dport_ltm\",\"ct_dst_sport_ltm\",\"ct_dst_src_ltm\",\"is_ftp_login\",\n",
    "                                                \"ct_ftp_cmd\",\"ct_flw_http_mthd\",\"ct_src_ltm\",\"ct_srv_dst\",\"is_sm_ips_ports\"],\n",
    "                                                categorical_feature=[\"proto\",\"state\",\"service\",\"is_sm_ips_ports\",\n",
    "                                                                     \"is_ftp_login\"])\n",
    "lgb_eval = gbm.Dataset(x_ts,y_ts,reference=lgb_train)"
   ]
  },
  {
   "cell_type": "code",
   "execution_count": 6,
   "metadata": {},
   "outputs": [],
   "source": [
    "params = {\n",
    "    'task': 'train', \n",
    "    'boosting_type': 'dart',\n",
    "    'objective': 'multiclass',\n",
    "    'metric': 'multi_logloss',\n",
    "    'num_class':10,\n",
    "    'max_depth' :8,\n",
    "    'learning_rate': 0.1,\n",
    "    'tree_learner': 'voting',\n",
    "    'max_bin': 1000,\n",
    "}"
   ]
  },
  {
   "cell_type": "code",
   "execution_count": 7,
   "metadata": {
    "scrolled": true
   },
   "outputs": [
    {
     "name": "stderr",
     "output_type": "stream",
     "text": [
      "/Users/alpersarikaya/venv/lib/python3.6/site-packages/lightgbm/basic.py:1186: UserWarning: Using categorical_feature in Dataset.\n",
      "  warnings.warn('Using categorical_feature in Dataset.')\n",
      "/Users/alpersarikaya/venv/lib/python3.6/site-packages/lightgbm/basic.py:1190: UserWarning: categorical_feature in Dataset is overridden.\n",
      "New categorical_feature is ['is_ftp_login', 'is_sm_ips_ports', 'proto', 'service', 'state']\n",
      "  'New categorical_feature is {}'.format(sorted(list(categorical_feature))))\n",
      "/Users/alpersarikaya/venv/lib/python3.6/site-packages/lightgbm/basic.py:752: UserWarning: categorical_feature in param dict is overridden.\n",
      "  warnings.warn('categorical_feature in param dict is overridden.')\n"
     ]
    },
    {
     "name": "stdout",
     "output_type": "stream",
     "text": [
      "[1]\tvalid_0's multi_logloss: 1.54791\n",
      "[2]\tvalid_0's multi_logloss: 1.4054\n",
      "[3]\tvalid_0's multi_logloss: 1.29236\n",
      "[4]\tvalid_0's multi_logloss: 1.20059\n",
      "[5]\tvalid_0's multi_logloss: 1.12256\n",
      "[6]\tvalid_0's multi_logloss: 1.06043\n",
      "[7]\tvalid_0's multi_logloss: 1.00035\n",
      "[8]\tvalid_0's multi_logloss: 1.02772\n",
      "[9]\tvalid_0's multi_logloss: 0.974669\n",
      "[10]\tvalid_0's multi_logloss: 0.923371\n",
      "[11]\tvalid_0's multi_logloss: 0.88276\n",
      "[12]\tvalid_0's multi_logloss: 0.896852\n",
      "[13]\tvalid_0's multi_logloss: 0.859138\n",
      "[14]\tvalid_0's multi_logloss: 0.822573\n",
      "[15]\tvalid_0's multi_logloss: 0.79023\n",
      "[16]\tvalid_0's multi_logloss: 0.759113\n",
      "[17]\tvalid_0's multi_logloss: 0.734963\n",
      "[18]\tvalid_0's multi_logloss: 0.711192\n",
      "[19]\tvalid_0's multi_logloss: 0.695094\n",
      "[20]\tvalid_0's multi_logloss: 0.673122\n",
      "[21]\tvalid_0's multi_logloss: 0.681052\n",
      "[22]\tvalid_0's multi_logloss: 0.662615\n",
      "[23]\tvalid_0's multi_logloss: 0.645603\n",
      "[24]\tvalid_0's multi_logloss: 0.633699\n",
      "[25]\tvalid_0's multi_logloss: 0.624901\n",
      "[26]\tvalid_0's multi_logloss: 0.613393\n",
      "[27]\tvalid_0's multi_logloss: 0.600348\n",
      "[28]\tvalid_0's multi_logloss: 0.60334\n",
      "[29]\tvalid_0's multi_logloss: 0.6133\n",
      "[30]\tvalid_0's multi_logloss: 0.588971\n",
      "[31]\tvalid_0's multi_logloss: 0.590319\n",
      "[32]\tvalid_0's multi_logloss: 0.589044\n",
      "[33]\tvalid_0's multi_logloss: 0.579932\n",
      "[34]\tvalid_0's multi_logloss: 0.573131\n",
      "[35]\tvalid_0's multi_logloss: 0.578111\n",
      "[36]\tvalid_0's multi_logloss: 0.582083\n",
      "[37]\tvalid_0's multi_logloss: 0.573587\n",
      "[38]\tvalid_0's multi_logloss: 0.568985\n",
      "[39]\tvalid_0's multi_logloss: 0.555963\n",
      "[40]\tvalid_0's multi_logloss: 0.566214\n",
      "[41]\tvalid_0's multi_logloss: 0.567058\n",
      "[42]\tvalid_0's multi_logloss: 0.553772\n",
      "[43]\tvalid_0's multi_logloss: 0.558647\n",
      "[44]\tvalid_0's multi_logloss: 0.56041\n",
      "[45]\tvalid_0's multi_logloss: 0.542324\n",
      "[46]\tvalid_0's multi_logloss: 0.547911\n",
      "[47]\tvalid_0's multi_logloss: 0.559123\n",
      "[48]\tvalid_0's multi_logloss: 0.564646\n",
      "[49]\tvalid_0's multi_logloss: 0.565938\n",
      "[50]\tvalid_0's multi_logloss: 0.563481\n",
      "Training 16.90 seconds:\n"
     ]
    }
   ],
   "source": [
    "from time import time\n",
    "evals={}\n",
    "start = time()\n",
    "clf = gbm.train(params,lgb_train,num_boost_round=50,valid_sets=lgb_eval,evals_result=evals)\n",
    "print(\"Training %.2f seconds:\" % ((time() - start)))"
   ]
  },
  {
   "cell_type": "code",
   "execution_count": 8,
   "metadata": {},
   "outputs": [
    {
     "data": {
      "text/plain": [
       "<matplotlib.axes._subplots.AxesSubplot at 0x11940f358>"
      ]
     },
     "execution_count": 8,
     "metadata": {},
     "output_type": "execute_result"
    },
    {
     "data": {
      "image/png": "[encoded data removed]",
      "text/plain": [
       "<Figure size 432x288 with 1 Axes>"
      ]
     },
     "metadata": {},
     "output_type": "display_data"
    }
   ],
   "source": [
    "%matplotlib inline\n",
    "gbm.plot_metric(evals)"
   ]
  },
  {
   "cell_type": "code",
   "execution_count": 9,
   "metadata": {},
   "outputs": [],
   "source": [
    "y_pred = clf.predict(x_ts,num_iteration=clf.best_iteration)"
   ]
  },
  {
   "cell_type": "code",
   "execution_count": 10,
   "metadata": {},
   "outputs": [],
   "source": [
    "import numpy as np\n",
    "predictions = []\n",
    "for x in y_pred:\n",
    "    predictions.append(np.argmax(x))"
   ]
  },
  {
   "cell_type": "code",
   "execution_count": 11,
   "metadata": {},
   "outputs": [
    {
     "name": "stdout",
     "output_type": "stream",
     "text": [
      "0.8225576488033002\n",
      "[[15279    16     0     5   171  1289     0    10    10    20]\n",
      " [   62    93    15     0   429     1     0     0     0     0]\n",
      " [    6     6    63     2   435     6     0     4     1     1]\n",
      " [   28     3     0   160  3387    39     3    15    32    12]\n",
      " [  114     5     3    45  9444   168    12   129    42    56]\n",
      " [  952     7     0     4   535  3905     2     7    25    18]\n",
      " [    3     1     1    13   177    19 11776     2     2     6]\n",
      " [    9     0     0     8   793    11     0  2320     1     6]\n",
      " [    7     0     0     3    62    38     2    11   215     2]\n",
      " [    1     0     0     0    20     4     0     0     0    14]]\n"
     ]
    }
   ],
   "source": [
    "print (accuracy_score(y_ts,predictions))\n",
    "print (confusion_matrix(y_ts,predictions))"
   ]
  },
  {
   "cell_type": "code",
   "execution_count": null,
   "metadata": {},
   "outputs": [],
   "source": [
    "from sklearn.metrics import classification_report\n",
    "target_names = ['Normal', 'Analysis', 'Backdoor','DoS','Exploit','Fuzzers','Generic','Recon',\n",
    "                'Shell','Worms']\n",
    "print(classification_report(y_ts,predictions,target_names=target_names))"
   ]
  },
  {
   "cell_type": "code",
   "execution_count": 15,
   "metadata": {},
   "outputs": [
    {
     "data": {
      "text/plain": [
       "<matplotlib.axes._subplots.AxesSubplot at 0x119caa860>"
      ]
     },
     "execution_count": 15,
     "metadata": {},
     "output_type": "execute_result"
    },
    {
     "data": {
      "image/png": "[encoded data removed]",
      "text/plain": [
       "<Figure size 720x720 with 1 Axes>"
      ]
     },
     "metadata": {},
     "output_type": "display_data"
    }
   ],
   "source": [
    "import matplotlib.pyplot as plt\n",
    "%matplotlib inline\n",
    "#gbm.plot_metric(evals)\n",
    "gbm.plot_importance(clf,figsize=(10,10),max_num_features=10)"
   ]
  },
  {
   "cell_type": "code",
   "execution_count": null,
   "metadata": {},
   "outputs": [],
   "source": [
    "from time import time\n",
    "from sklearn.ensemble import RandomForestClassifier\n",
    "start = time()\n",
    "clf = RandomForestClassifier(max_depth=8,random_state=42,class_weight='balanced')\n",
    "clf.fit(x_tr,y_tr)\n",
    "print(\"Training %.2f seconds:\" % ((time() - start)))"
   ]
  },
  {
   "cell_type": "code",
   "execution_count": null,
   "metadata": {},
   "outputs": [],
   "source": [
    "clf_pred = clf.predict(x_ts)\n",
    "print (accuracy_score(y_ts,clf_pred))\n",
    "print (confusion_matrix(y_ts,clf_pred))"
   ]
  },
  {
   "cell_type": "code",
   "execution_count": null,
   "metadata": {},
   "outputs": [],
   "source": [
    "xg_train = xgb.DMatrix(x_tr, label=y_tr)\n",
    "xg_test = xgb.DMatrix(x_ts, label=y_ts)\n",
    "\n",
    "param = {\n",
    "        'max_depth':8, \n",
    "         'eta':0.1,\n",
    "         'num_class':10, \n",
    "         'objective':'multi:softmax',\n",
    "        'booster':'dart',\n",
    "        'eval_metric':'mlogloss'}\n",
    "\n",
    "watchlist = [(xg_train, 'train'), (xg_test, 'test')]\n",
    "num_round = 50\n",
    "start = time()\n",
    "bst = xgb.train(param, xg_train, num_round, watchlist,)\n",
    "print(\"Training %.2f seconds:\" % ((time() - start)))\n",
    "# make prediction\n",
    "preds = bst.predict(xg_test)"
   ]
  },
  {
   "cell_type": "code",
   "execution_count": null,
   "metadata": {},
   "outputs": [],
   "source": [
    "print (accuracy_score(y_ts,preds))\n",
    "print (confusion_matrix(y_ts,preds))"
   ]
  },
  {
   "cell_type": "code",
   "execution_count": null,
   "metadata": {},
   "outputs": [],
   "source": [
    "#ACCORDING_TO_HMC\n",
    "y_tr = train[43]\n",
    "y_ts = test[43]\n",
    "x_tr = train.drop([0,1,2,5,6,9,13,16,17,18,19,20,21,22,23,24,25,26,\n",
    "                   29,32,33,39,40,42,43,44],axis=1)\n",
    "x_ts = test.drop([0,1,2,5,6,9,13,16,17,18,19,20,21,22,23,24,25,26,\n",
    "                   29,32,33,39,40,42,43,44],axis=1)"
   ]
  },
  {
   "cell_type": "code",
   "execution_count": null,
   "metadata": {},
   "outputs": [],
   "source": [
    "#ACCORDING_TO_HMC\n",
    "lgb_train = gbm.Dataset(x_tr,y_tr,feature_name=['service','state', 'sbytes', 'dbytes', 'sttl', 'dttl','sload','sloss',\n",
    "                                                'dloss','smean','dmean','response_body_len','ct_srv_src','ct_srv_src',\n",
    "                                                'ct_src_dport_ltm', 'ct_dst_src_ltm','is_ftp_login','ct_ftp_cmd',\n",
    "                                                'ct_srv_dst'], categorical_feature=['service','state','sttl', 'dttl',\n",
    "                                                'is_ftp_login','ct_ftp_cmd'])\n",
    "lgb_eval = gbm.Dataset(x_ts,y_ts,reference=lgb_train)"
   ]
  },
  {
   "cell_type": "code",
   "execution_count": null,
   "metadata": {},
   "outputs": [],
   "source": [
    "#ACCORDING_TO_DART_RESULT\n",
    "y_tr = train[43]\n",
    "y_ts = test[43]\n",
    "x_tr = train.drop([0,4,5,6,9,10,11,14,15,16,17,18,19,20,23,24,26,29,30,32,33,34,35,37,38,39,42,43,44],axis=1)\n",
    "x_ts = test.drop([0,4,5,6,9,10,11,14,15,16,17,18,19,20,23,24,26,29,30,32,33,34,35,37,38,39,42,43,44],axis=1)"
   ]
  },
  {
   "cell_type": "code",
   "execution_count": null,
   "metadata": {},
   "outputs": [],
   "source": [
    "#ACCORDING_TO_DART_RESULT\n",
    "lgb_train = gbm.Dataset(x_tr,y_tr)\n",
    "lgb_eval = gbm.Dataset(x_ts,y_ts,reference=lgb_train)"
   ]
  },
  {
   "cell_type": "code",
   "execution_count": null,
   "metadata": {},
   "outputs": [],
   "source": [
    "#FULL_SET\n",
    "y_tr = train[43]\n",
    "y_ts = test[43]\n",
    "x_tr = train.drop([0,43,44],axis=1)\n",
    "x_ts = test.drop([0,43,44],axis=1)"
   ]
  }
 ],
 "metadata": {
  "kernelspec": {
   "display_name": "Python 3",
   "language": "python",
   "name": "python3"
  },
  "language_info": {
   "codemirror_mode": {
    "name": "ipython",
    "version": 3
   },
   "file_extension": ".py",
   "mimetype": "text/x-python",
   "name": "python",
   "nbconvert_exporter": "python",
   "pygments_lexer": "ipython3",
   "version": "3.6.6"
  }
 },
 "nbformat": 4,
 "nbformat_minor": 2
}
